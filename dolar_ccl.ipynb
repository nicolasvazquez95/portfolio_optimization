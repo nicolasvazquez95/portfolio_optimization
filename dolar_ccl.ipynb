{
 "cells": [
  {
   "cell_type": "markdown",
   "metadata": {},
   "source": [
    "# Conexión a la API con precio del dolar CCL"
   ]
  },
  {
   "cell_type": "code",
   "execution_count": 1,
   "metadata": {},
   "outputs": [
    {
     "name": "stdout",
     "output_type": "stream",
     "text": [
      "Warning - Certain functionality \n",
      "             requires requests_html, which is not installed.\n",
      "             \n",
      "             Install using: \n",
      "             pip install requests_html\n",
      "             \n",
      "             After installation, you may have to restart your Python session.\n"
     ]
    }
   ],
   "source": [
    "import requests\n",
    "import pandas as pd\n",
    "from data_downloader.data_client import DolarPrices"
   ]
  },
  {
   "cell_type": "code",
   "execution_count": 2,
   "metadata": {},
   "outputs": [],
   "source": [
    "dp = DolarPrices()"
   ]
  },
  {
   "cell_type": "code",
   "execution_count": 3,
   "metadata": {},
   "outputs": [],
   "source": [
    "url = dp._build_url('bolsa')"
   ]
  },
  {
   "cell_type": "code",
   "execution_count": 4,
   "metadata": {},
   "outputs": [
    {
     "data": {
      "text/plain": [
       "'https://api.argentinadatos.com/v1//cotizaciones/dolares/bolsa'"
      ]
     },
     "execution_count": 4,
     "metadata": {},
     "output_type": "execute_result"
    }
   ],
   "source": [
    "url"
   ]
  },
  {
   "cell_type": "code",
   "execution_count": 5,
   "metadata": {},
   "outputs": [
    {
     "data": {
      "text/html": [
       "<div>\n",
       "<style scoped>\n",
       "    .dataframe tbody tr th:only-of-type {\n",
       "        vertical-align: middle;\n",
       "    }\n",
       "\n",
       "    .dataframe tbody tr th {\n",
       "        vertical-align: top;\n",
       "    }\n",
       "\n",
       "    .dataframe thead th {\n",
       "        text-align: right;\n",
       "    }\n",
       "</style>\n",
       "<table border=\"1\" class=\"dataframe\">\n",
       "  <thead>\n",
       "    <tr style=\"text-align: right;\">\n",
       "      <th></th>\n",
       "      <th>casa</th>\n",
       "      <th>compra</th>\n",
       "      <th>venta</th>\n",
       "      <th>fecha</th>\n",
       "    </tr>\n",
       "  </thead>\n",
       "  <tbody>\n",
       "    <tr>\n",
       "      <th>0</th>\n",
       "      <td>bolsa</td>\n",
       "      <td>36.97</td>\n",
       "      <td>36.97</td>\n",
       "      <td>2018-10-29</td>\n",
       "    </tr>\n",
       "    <tr>\n",
       "      <th>1</th>\n",
       "      <td>bolsa</td>\n",
       "      <td>36.63</td>\n",
       "      <td>36.63</td>\n",
       "      <td>2018-10-30</td>\n",
       "    </tr>\n",
       "    <tr>\n",
       "      <th>2</th>\n",
       "      <td>bolsa</td>\n",
       "      <td>35.93</td>\n",
       "      <td>35.93</td>\n",
       "      <td>2018-10-31</td>\n",
       "    </tr>\n",
       "    <tr>\n",
       "      <th>3</th>\n",
       "      <td>bolsa</td>\n",
       "      <td>35.89</td>\n",
       "      <td>35.89</td>\n",
       "      <td>2018-11-01</td>\n",
       "    </tr>\n",
       "    <tr>\n",
       "      <th>4</th>\n",
       "      <td>bolsa</td>\n",
       "      <td>35.66</td>\n",
       "      <td>35.66</td>\n",
       "      <td>2018-11-02</td>\n",
       "    </tr>\n",
       "    <tr>\n",
       "      <th>...</th>\n",
       "      <td>...</td>\n",
       "      <td>...</td>\n",
       "      <td>...</td>\n",
       "      <td>...</td>\n",
       "    </tr>\n",
       "    <tr>\n",
       "      <th>2008</th>\n",
       "      <td>bolsa</td>\n",
       "      <td>1239.50</td>\n",
       "      <td>1245.10</td>\n",
       "      <td>2024-06-18</td>\n",
       "    </tr>\n",
       "    <tr>\n",
       "      <th>2009</th>\n",
       "      <td>bolsa</td>\n",
       "      <td>1269.80</td>\n",
       "      <td>1276.40</td>\n",
       "      <td>2024-06-19</td>\n",
       "    </tr>\n",
       "    <tr>\n",
       "      <th>2010</th>\n",
       "      <td>bolsa</td>\n",
       "      <td>1269.80</td>\n",
       "      <td>1276.40</td>\n",
       "      <td>2024-06-20</td>\n",
       "    </tr>\n",
       "    <tr>\n",
       "      <th>2011</th>\n",
       "      <td>bolsa</td>\n",
       "      <td>1269.80</td>\n",
       "      <td>1276.40</td>\n",
       "      <td>2024-06-21</td>\n",
       "    </tr>\n",
       "    <tr>\n",
       "      <th>2012</th>\n",
       "      <td>bolsa</td>\n",
       "      <td>1269.80</td>\n",
       "      <td>1276.40</td>\n",
       "      <td>2024-06-22</td>\n",
       "    </tr>\n",
       "  </tbody>\n",
       "</table>\n",
       "<p>2013 rows × 4 columns</p>\n",
       "</div>"
      ],
      "text/plain": [
       "       casa   compra    venta       fecha\n",
       "0     bolsa    36.97    36.97  2018-10-29\n",
       "1     bolsa    36.63    36.63  2018-10-30\n",
       "2     bolsa    35.93    35.93  2018-10-31\n",
       "3     bolsa    35.89    35.89  2018-11-01\n",
       "4     bolsa    35.66    35.66  2018-11-02\n",
       "...     ...      ...      ...         ...\n",
       "2008  bolsa  1239.50  1245.10  2024-06-18\n",
       "2009  bolsa  1269.80  1276.40  2024-06-19\n",
       "2010  bolsa  1269.80  1276.40  2024-06-20\n",
       "2011  bolsa  1269.80  1276.40  2024-06-21\n",
       "2012  bolsa  1269.80  1276.40  2024-06-22\n",
       "\n",
       "[2013 rows x 4 columns]"
      ]
     },
     "execution_count": 5,
     "metadata": {},
     "output_type": "execute_result"
    }
   ],
   "source": [
    "pd.DataFrame(requests.get(url).json())"
   ]
  }
 ],
 "metadata": {
  "kernelspec": {
   "display_name": "Python (Nico)",
   "language": "python",
   "name": "nico"
  },
  "language_info": {
   "codemirror_mode": {
    "name": "ipython",
    "version": 3
   },
   "file_extension": ".py",
   "mimetype": "text/x-python",
   "name": "python",
   "nbconvert_exporter": "python",
   "pygments_lexer": "ipython3",
   "version": "3.11.9"
  }
 },
 "nbformat": 4,
 "nbformat_minor": 2
}
