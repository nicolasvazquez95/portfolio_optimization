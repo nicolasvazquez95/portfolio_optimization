{
 "cells": [
  {
   "cell_type": "markdown",
   "metadata": {},
   "source": [
    "# Portfolio Optimization using Python "
   ]
  },
  {
   "cell_type": "code",
   "execution_count": 1,
   "metadata": {},
   "outputs": [],
   "source": [
    "# Libraries \n",
    "import pathlib\n",
    "import numpy as np\n",
    "import pandas as pd\n",
    "from matplotlib import pyplot as plt\n",
    "import scipy.optimize as sci_opt\n",
    "from pprint import pprint # A print library!\n",
    "from sklearn.preprocessing import StandardScaler\n",
    "\n",
    "# Libraries to download data\n",
    "from fake_useragent import UserAgent # :o\n",
    "from data_downloader.data_client import PriceHistory \n",
    "\n",
    "# Set display options for Pandas\n",
    "pd.set_option('display.max_colwidth', None)\n",
    "pd.set_option('expand_frame_repr', False)"
   ]
  },
  {
   "cell_type": "markdown",
   "metadata": {},
   "source": [
    "## Getting the data"
   ]
  },
  {
   "cell_type": "code",
   "execution_count": 3,
   "metadata": {},
   "outputs": [
    {
     "ename": "TypeError",
     "evalue": "unsupported operand type(s) for +: 'NoneType' and 'list'",
     "output_type": "error",
     "traceback": [
      "\u001b[1;31m---------------------------------------------------------------------------\u001b[0m",
      "\u001b[1;31mTypeError\u001b[0m                                 Traceback (most recent call last)",
      "Cell \u001b[1;32mIn[3], line 9\u001b[0m\n\u001b[0;32m      5\u001b[0m \u001b[38;5;66;03m# If we don't have data grab it from the NASDAQ\u001b[39;00m\n\u001b[0;32m      6\u001b[0m \u001b[38;5;28;01mif\u001b[39;00m \u001b[38;5;129;01mnot\u001b[39;00m pathlib\u001b[38;5;241m.\u001b[39mPath(\u001b[38;5;124m'\u001b[39m\u001b[38;5;124mdata/stock_data.csv\u001b[39m\u001b[38;5;124m'\u001b[39m)\u001b[38;5;241m.\u001b[39mexists():\n\u001b[0;32m      7\u001b[0m \n\u001b[0;32m      8\u001b[0m     \u001b[38;5;66;03m# Initialize the PriceHistory Client.\u001b[39;00m\n\u001b[1;32m----> 9\u001b[0m     price_history_client \u001b[38;5;241m=\u001b[39m \u001b[43mPriceHistory\u001b[49m\u001b[43m(\u001b[49m\u001b[43msymbols\u001b[49m\u001b[38;5;241;43m=\u001b[39;49m\u001b[43msymbols\u001b[49m\u001b[43m,\u001b[49m\n\u001b[0;32m     10\u001b[0m \u001b[43m                                        \u001b[49m\u001b[43muser_agent\u001b[49m\u001b[38;5;241;43m=\u001b[39;49m\u001b[43mUserAgent\u001b[49m\u001b[43m(\u001b[49m\u001b[43m)\u001b[49m\u001b[38;5;241;43m.\u001b[39;49m\u001b[43mchrome\u001b[49m\u001b[43m,\u001b[49m\n\u001b[0;32m     11\u001b[0m \u001b[43m                                        \u001b[49m\n\u001b[0;32m     12\u001b[0m \u001b[43m                                        \u001b[49m\u001b[43m)\u001b[49m\n\u001b[0;32m     14\u001b[0m     \u001b[38;5;66;03m# Grab the data and dump it to a CSV file\u001b[39;00m\n\u001b[0;32m     15\u001b[0m     price_history_client\u001b[38;5;241m.\u001b[39mprice_data_frame\u001b[38;5;241m.\u001b[39mto_csv(\u001b[38;5;124m'\u001b[39m\u001b[38;5;124mdata/stock_data.csv\u001b[39m\u001b[38;5;124m'\u001b[39m,\n\u001b[0;32m     16\u001b[0m                                                  index\u001b[38;5;241m=\u001b[39m\u001b[38;5;28;01mFalse\u001b[39;00m\n\u001b[0;32m     17\u001b[0m                                                  )\n",
      "File \u001b[1;32mc:\\Users\\nicol\\GitHub\\portfolio_optimization\\data_downloader\\data_client.py:29\u001b[0m, in \u001b[0;36mPriceHistory.__init__\u001b[1;34m(self, symbols, user_agent)\u001b[0m\n\u001b[0;32m     27\u001b[0m \u001b[38;5;28mself\u001b[39m\u001b[38;5;241m.\u001b[39m_symbols \u001b[38;5;241m=\u001b[39m symbols\n\u001b[0;32m     28\u001b[0m \u001b[38;5;28mself\u001b[39m\u001b[38;5;241m.\u001b[39muser_agent \u001b[38;5;241m=\u001b[39m user_agent\n\u001b[1;32m---> 29\u001b[0m \u001b[38;5;28mself\u001b[39m\u001b[38;5;241m.\u001b[39mprice_data_frame \u001b[38;5;241m=\u001b[39m \u001b[38;5;28;43mself\u001b[39;49m\u001b[38;5;241;43m.\u001b[39;49m\u001b[43m_build_data_frame\u001b[49m\u001b[43m(\u001b[49m\u001b[43m)\u001b[49m\n",
      "File \u001b[1;32mc:\\Users\\nicol\\GitHub\\portfolio_optimization\\data_downloader\\data_client.py:70\u001b[0m, in \u001b[0;36mPriceHistory._build_data_frame\u001b[1;34m(self)\u001b[0m\n\u001b[0;32m     67\u001b[0m from_date \u001b[38;5;241m=\u001b[39m to_date \u001b[38;5;241m-\u001b[39m relativedelta(months\u001b[38;5;241m=\u001b[39m\u001b[38;5;241m6\u001b[39m)\n\u001b[0;32m     69\u001b[0m \u001b[38;5;28;01mfor\u001b[39;00m symbol \u001b[38;5;129;01min\u001b[39;00m \u001b[38;5;28mself\u001b[39m\u001b[38;5;241m.\u001b[39m_symbols:\n\u001b[1;32m---> 70\u001b[0m     all_data \u001b[38;5;241m=\u001b[39m \u001b[38;5;28;43mself\u001b[39;49m\u001b[38;5;241;43m.\u001b[39;49m\u001b[43m_grab_prices\u001b[49m\u001b[43m(\u001b[49m\n\u001b[0;32m     71\u001b[0m \u001b[43m        \u001b[49m\u001b[43msymbol\u001b[49m\u001b[38;5;241;43m=\u001b[39;49m\u001b[43msymbol\u001b[49m\u001b[43m,\u001b[49m\n\u001b[0;32m     72\u001b[0m \u001b[43m        \u001b[49m\u001b[43mfrom_date\u001b[49m\u001b[38;5;241;43m=\u001b[39;49m\u001b[43mfrom_date\u001b[49m\u001b[43m,\u001b[49m\n\u001b[0;32m     73\u001b[0m \u001b[43m        \u001b[49m\u001b[43mto_date\u001b[49m\u001b[38;5;241;43m=\u001b[39;49m\u001b[43mto_date\u001b[49m\u001b[43m,\u001b[49m\n\u001b[0;32m     74\u001b[0m \u001b[43m    \u001b[49m\u001b[43m)\u001b[49m\u001b[43m \u001b[49m\u001b[38;5;241;43m+\u001b[39;49m\u001b[43m \u001b[49m\u001b[43mall_data\u001b[49m\n\u001b[0;32m     76\u001b[0m price_data_frame \u001b[38;5;241m=\u001b[39m pd\u001b[38;5;241m.\u001b[39mDataFrame(data\u001b[38;5;241m=\u001b[39mall_data)\n\u001b[0;32m     77\u001b[0m price_data_frame[\u001b[38;5;124m'\u001b[39m\u001b[38;5;124mdate\u001b[39m\u001b[38;5;124m'\u001b[39m] \u001b[38;5;241m=\u001b[39m pd\u001b[38;5;241m.\u001b[39mto_datetime(price_data_frame[\u001b[38;5;124m'\u001b[39m\u001b[38;5;124mdate\u001b[39m\u001b[38;5;124m'\u001b[39m])\n",
      "\u001b[1;31mTypeError\u001b[0m: unsupported operand type(s) for +: 'NoneType' and 'list'"
     ]
    }
   ],
   "source": [
    "# Define symbols\n",
    "symbols = ['AAPL','KO','SBUX','AXP'] # My stocks at 6/9/2024 :)\n",
    "number_of_symbols = len(symbols)\n",
    "\n",
    "# If we don't have data grab it from the NASDAQ\n",
    "if not pathlib.Path('data/stock_data.csv').exists():\n",
    "\n",
    "    # Initialize the PriceHistory Client.\n",
    "    price_history_client = PriceHistory(symbols=symbols,\n",
    "                                        user_agent=UserAgent().chrome,\n",
    "                                        \n",
    "                                        )\n",
    "\n",
    "    # Grab the data and dump it to a CSV file\n",
    "    price_history_client.price_data_frame.to_csv('data/stock_data.csv',\n",
    "                                                 index=False\n",
    "                                                 )\n",
    "    display(price_history_client.price_data_frame)\n",
    "\n",
    "    # Grab the data frame\n",
    "    price_data_frame : pd.DataFrame = price_history_client.price_data_frame\n",
    "else:\n",
    "    # Load the existing csv file.\n",
    "    price_data_frame : pd.DataFrame = pd.read_csv('data/stock_data.csv')\n",
    "\n",
    "print(price_data_frame.head())"
   ]
  }
 ],
 "metadata": {
  "kernelspec": {
   "display_name": "Python (Nico)",
   "language": "python",
   "name": "nico"
  },
  "language_info": {
   "codemirror_mode": {
    "name": "ipython",
    "version": 3
   },
   "file_extension": ".py",
   "mimetype": "text/x-python",
   "name": "python",
   "nbconvert_exporter": "python",
   "pygments_lexer": "ipython3",
   "version": "3.11.9"
  }
 },
 "nbformat": 4,
 "nbformat_minor": 2
}
