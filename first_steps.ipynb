{
 "cells": [
  {
   "cell_type": "markdown",
   "metadata": {},
   "source": [
    "# Portfolio Optimization using Python "
   ]
  },
  {
   "cell_type": "code",
   "execution_count": 1,
   "metadata": {},
   "outputs": [],
   "source": [
    "# Libraries \n",
    "import pathlib\n",
    "import numpy as np\n",
    "import pandas as pd\n",
    "from matplotlib import pyplot as plt\n",
    "import scipy.optimize as sci_opt\n",
    "from pprint import pprint # A print library!\n",
    "from sklearn.preprocessing import StandardScaler\n",
    "\n",
    "# Libraries to download data\n",
    "from fake_useragent import UserAgent # :o\n",
    "from data_downloader.data_client import PriceHistory \n",
    "\n",
    "# Set display options for Pandas\n",
    "pd.set_option('display.max_colwidth', None)\n",
    "pd.set_option('expand_frame_repr', False)"
   ]
  },
  {
   "cell_type": "markdown",
   "metadata": {},
   "source": [
    "## Getting the data"
   ]
  },
  {
   "cell_type": "code",
   "execution_count": 4,
   "metadata": {},
   "outputs": [
    {
     "name": "stdout",
     "output_type": "stream",
     "text": [
      "         date   close   volume    open      high       low    symbol\n",
      "0  2024-06-07  232.67  2212477  232.41  234.1205  231.7100  ('AXP',)\n",
      "1  2024-06-06  233.35  2709843  234.79  236.4000  232.7000  ('AXP',)\n",
      "2  2024-06-05  234.69  2925098  236.25  237.7000  233.7000  ('AXP',)\n",
      "3  2024-06-04  237.25  2512117  236.39  240.0000  235.7300  ('AXP',)\n",
      "4  2024-06-03  236.88  2677196  240.18  241.3600  233.5309  ('AXP',)\n"
     ]
    }
   ],
   "source": [
    "# Define symbols\n",
    "symbols = ['AAPL','KO','SBUX','AXP'] # My stocks at 6/9/2024 :)\n",
    "number_of_symbols = len(symbols)\n",
    "\n",
    "# If we don't have data grab it from the NASDAQ\n",
    "if not pathlib.Path('data/stock_data.csv').exists():\n",
    "\n",
    "    # Initialize the PriceHistory Client.\n",
    "    price_history_client = PriceHistory(symbols=symbols,\n",
    "                                        user_agent=UserAgent().chrome,\n",
    "                                        \n",
    "                                        )\n",
    "\n",
    "    # Grab the data and dump it to a CSV file\n",
    "    price_history_client.price_data_frame.to_csv('data/stock_data.csv',\n",
    "                                                 index=False\n",
    "                                                 )\n",
    "    display(price_history_client.price_data_frame)\n",
    "\n",
    "    # Grab the data frame\n",
    "    price_data_frame : pd.DataFrame = price_history_client.price_data_frame\n",
    "else:\n",
    "    # Load the existing csv file.\n",
    "    price_data_frame : pd.DataFrame = pd.read_csv('data/stock_data.csv')\n",
    "\n",
    "print(price_data_frame.head())"
   ]
  },
  {
   "cell_type": "code",
   "execution_count": null,
   "metadata": {},
   "outputs": [],
   "source": []
  }
 ],
 "metadata": {
  "kernelspec": {
   "display_name": "Python (nico)",
   "language": "python",
   "name": "nico"
  },
  "language_info": {
   "codemirror_mode": {
    "name": "ipython",
    "version": 3
   },
   "file_extension": ".py",
   "mimetype": "text/x-python",
   "name": "python",
   "nbconvert_exporter": "python",
   "pygments_lexer": "ipython3",
   "version": "3.12.3"
  }
 },
 "nbformat": 4,
 "nbformat_minor": 2
}
