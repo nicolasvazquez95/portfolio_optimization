{
 "cells": [
  {
   "cell_type": "markdown",
   "metadata": {},
   "source": [
    "# Portfolio Optimization using Python "
   ]
  },
  {
   "cell_type": "code",
   "execution_count": 9,
   "metadata": {},
   "outputs": [],
   "source": [
    "# Libraries \n",
    "import pathlib\n",
    "import numpy as np\n",
    "import pandas as pd\n",
    "from matplotlib import pyplot as plt\n",
    "import scipy.optimize as sci_opt\n",
    "from pprint import pprint # A print library!\n",
    "from sklearn.preprocessing import StandardScaler\n",
    "\n",
    "# Libraries to download data\n",
    "from fake_useragent import UserAgent # :o\n",
    "\n",
    "# Set display options for Pandas\n",
    "pd.set_option('display.max_colwidth', None)\n",
    "pd.set_option('expand_frame_repr', False)"
   ]
  },
  {
   "cell_type": "markdown",
   "metadata": {},
   "source": [
    "## Getting the data"
   ]
  },
  {
   "cell_type": "code",
   "execution_count": null,
   "metadata": {},
   "outputs": [],
   "source": [
    "# Define symbols\n",
    "symbols = ['AAPL','KO','SBUX','AXP'] # My stocks at 6/9/2024 :)\n",
    "number_of_symbols = len(symbols)\n",
    "\n",
    "# If we don't have data grab it from the NASDAQ\n",
    "if not pathlib.Path('data/stock_data.csv').exists():\n",
    "\n",
    "    # Initialize the PriceHistory Client.\n",
    "    price_history_client = PriceHistory(symbols=symbols,\n",
    "                                        user_agent=UserAgent().chrome,\n",
    "                                        \n",
    "                                        )\n",
    "\n",
    "    # Grab the data and dump it to a CSV file\n",
    "    price_history_client.price_data_frame.to_csv('data/stock_data.csv',\n",
    "                                                 index=False\n",
    "                                                 )\n",
    "    display(price_history_client.price_data_frame)\n",
    "\n",
    "    # Grab the data frame\n",
    "    price_data_frame : pd.DataFrame = price_history_client.price_data_frame\n",
    "else:\n",
    "    # Load the existing csv file.\n",
    "    price_data_frame : pd.DataFrame = pd.read_csv('data/stock_data.csv')\n",
    "\n",
    "print(price_data_frame.head())"
   ]
  }
 ],
 "metadata": {
  "kernelspec": {
   "display_name": "Python (Nico)",
   "language": "python",
   "name": "nico"
  },
  "language_info": {
   "codemirror_mode": {
    "name": "ipython",
    "version": 3
   },
   "file_extension": ".py",
   "mimetype": "text/x-python",
   "name": "python",
   "nbconvert_exporter": "python",
   "pygments_lexer": "ipython3",
   "version": "3.11.9"
  }
 },
 "nbformat": 4,
 "nbformat_minor": 2
}
